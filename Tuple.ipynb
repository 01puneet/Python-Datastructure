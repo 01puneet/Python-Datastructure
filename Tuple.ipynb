{
 "cells": [
  {
   "cell_type": "code",
   "execution_count": 5,
   "id": "9ef24431-26de-4fd7-91b6-bc889e07de95",
   "metadata": {},
   "outputs": [
    {
     "name": "stdout",
     "output_type": "stream",
     "text": [
      "(2, 3, 4)\n",
      "<class 'tuple'>\n",
      "(20, 30) <class 'tuple'>\n",
      "Messi <class 'str'>\n",
      "('Messi',) <class 'tuple'>\n"
     ]
    }
   ],
   "source": [
    "#tuple-ordered,immutable & allow duplicacy.\n",
    "players=(2,3,4)\n",
    "print(players)\n",
    "print(type(players))\n",
    "players=20,30\n",
    "print(players,type(players))\n",
    "players=(\"Messi\")\n",
    "print(players,type(players))\n",
    "players=(\"Messi\",)\n",
    "print(players,type(players))"
   ]
  },
  {
   "cell_type": "code",
   "execution_count": 6,
   "id": "562f29e0-e688-4176-98ca-88646e0cdf41",
   "metadata": {},
   "outputs": [
    {
     "name": "stdout",
     "output_type": "stream",
     "text": [
      "('Messi', 'Ronaldo') <class 'tuple'>\n"
     ]
    }
   ],
   "source": [
    "#tuple()-constructor\n",
    "players=tuple([\"Messi\",\"Ronaldo\"])\n",
    "print(players,type(players))"
   ]
  },
  {
   "cell_type": "code",
   "execution_count": 39,
   "id": "d2f084be-5700-49d2-9302-b291e908bbbc",
   "metadata": {},
   "outputs": [
    {
     "name": "stdout",
     "output_type": "stream",
     "text": [
      "France\n",
      "France\n",
      "France\n",
      "Argentina\n",
      "Portugal\n",
      "France\n",
      "France\n",
      "Argentina\n",
      "Portugal\n",
      "France\n",
      "('Argentina', 'Portugal', 'France')\n",
      "('Argentina', 'Portugal')\n",
      "('France', 'Portugal')\n",
      "France\n",
      "Argentina\n",
      "Portugal\n",
      "France\n"
     ]
    }
   ],
   "source": [
    "#access\n",
    "#via index\n",
    "teams=(\"France\",\"Argentina\",\"Portugal\",\"France\")\n",
    "print(teams[0])\n",
    "#via negative Index\n",
    "print(teams[-1])\n",
    "#loop\n",
    "for i in teams:\n",
    "    print(i)\n",
    "#Acess using while loop\n",
    "x=0\n",
    "while x<len(teams):\n",
    "    print(teams[x])\n",
    "    x+=1\n",
    "#slicing\n",
    "print(teams[1:])#postive\n",
    "print(teams[-3:-1])#negative \n",
    "#can define step as well\n",
    "print(teams[0::2])\n",
    "\n",
    "#range()\n",
    "for i in range(0,len(teams)):\n",
    "    print(teams[i])"
   ]
  },
  {
   "cell_type": "code",
   "execution_count": 29,
   "id": "6437480c-8c75-4a08-8c4c-8f43b2ec937c",
   "metadata": {},
   "outputs": [
    {
     "name": "stdout",
     "output_type": "stream",
     "text": [
      "yes\n"
     ]
    }
   ],
   "source": [
    "#check item in tuple\n",
    "if \"France\" in teams:\n",
    "    print(\"yes\")\n",
    "else:\n",
    "    print(\"No\")"
   ]
  },
  {
   "cell_type": "code",
   "execution_count": 30,
   "id": "f2265f44-e714-4d7a-92aa-6da1ae5b4010",
   "metadata": {},
   "outputs": [
    {
     "name": "stdout",
     "output_type": "stream",
     "text": [
      "('hello', 2, 2.3) <class 'tuple'>\n"
     ]
    }
   ],
   "source": [
    "#tuple is heterogenous\n",
    "t=(\"hello\",2,2.3)\n",
    "print(t,type(t))"
   ]
  },
  {
   "cell_type": "code",
   "execution_count": 33,
   "id": "d1c42b9b-9fbd-4730-bd17-9196b46e454d",
   "metadata": {},
   "outputs": [
    {
     "name": "stdout",
     "output_type": "stream",
     "text": [
      "4\n",
      "2\n",
      "0\n"
     ]
    }
   ],
   "source": [
    "#tuple methods\n",
    "#len\n",
    "print(len(teams))\n",
    "#count\n",
    "print(teams.count(\"France\"))#returns count of passed element\n",
    "#index\n",
    "print(teams.index(\"France\"))#returns first occurance"
   ]
  },
  {
   "cell_type": "code",
   "execution_count": 35,
   "id": "920277ca-eda9-431e-a6b3-710eaad0ada8",
   "metadata": {},
   "outputs": [
    {
     "name": "stdout",
     "output_type": "stream",
     "text": [
      "['France', 'Argentina', 'Portugal', 'France'] <class 'list'>\n",
      "('France', 'Argentina', 'Portugal', 'France') <class 'tuple'>\n"
     ]
    }
   ],
   "source": [
    "#conversion\n",
    "l=list(teams)#tuple to list\n",
    "print(l,type(l))\n",
    "#list to tuple\n",
    "t=tuple(l)\n",
    "print(t,type(t))"
   ]
  },
  {
   "cell_type": "code",
   "execution_count": 4,
   "id": "35abc0df-d464-41a0-a0e0-f1b219c78be6",
   "metadata": {},
   "outputs": [
    {
     "name": "stdout",
     "output_type": "stream",
     "text": [
      "('a', 'b') <class 'tuple'>\n",
      "a b\n",
      "1\n",
      "2\n",
      "Remaining items as list- [3, 4, 5, 6]\n"
     ]
    }
   ],
   "source": [
    "#packing & Unpacking\n",
    "coaches=('a','b')#packing\n",
    "print(coaches,type(coaches))\n",
    "argentina,france=coaches#unpacking\n",
    "print(argentina,france)\n",
    "\n",
    "#using asterik *\n",
    "t=(1,2,3,4,5,6)\n",
    "a,b,*c=t\n",
    "print(a)\n",
    "print(b)\n",
    "print('Remaining items as list-',c)"
   ]
  },
  {
   "cell_type": "code",
   "execution_count": 5,
   "id": "2d5abcb7-33f2-4ffb-a274-5f1b2ca9a7df",
   "metadata": {},
   "outputs": [
    {
     "name": "stdout",
     "output_type": "stream",
     "text": [
      "Size in bytes- 120\n",
      "Size in bytes- 64\n"
     ]
    }
   ],
   "source": [
    "#compare size of list & tuple\n",
    "import sys as s\n",
    "l=[1,2,3]\n",
    "t=(1,2,3)\n",
    "print(\"Size in bytes-\",s.getsizeof(l))\n",
    "print(\"Size in bytes-\",s.getsizeof(t))\n",
    "#hence tuple can be used when to handle with large data"
   ]
  },
  {
   "cell_type": "code",
   "execution_count": 6,
   "id": "8a28079f-959d-41e5-b602-3768f813ea17",
   "metadata": {},
   "outputs": [
    {
     "name": "stdout",
     "output_type": "stream",
     "text": [
      "0.1226160100004563\n",
      "0.01359088899971539\n"
     ]
    }
   ],
   "source": [
    "#compare time between list & tuple\n",
    "import timeit as t\n",
    "print(t.timeit(stmt=\"[1,2,3]\",number=1000000))\n",
    "print(t.timeit(stmt=\"(1,2,3)\",number=1000000))"
   ]
  },
  {
   "cell_type": "code",
   "execution_count": 11,
   "id": "aecfcc5d-597f-4dbb-9ead-a1af5e5ba5ba",
   "metadata": {},
   "outputs": [
    {
     "name": "stdout",
     "output_type": "stream",
     "text": [
      "(100, 200, 1.2, 2.9)\n",
      "(100, 200, 100, 200) <class 'tuple'> 4\n"
     ]
    }
   ],
   "source": [
    "#concat\n",
    "t1=(100,200)\n",
    "t2=(1.2,2.9)\n",
    "print(t1+t2)\n",
    "#double the tuple with multiply(*)\n",
    "result=t1*2\n",
    "print(result,type(result),len(result))"
   ]
  },
  {
   "cell_type": "code",
   "execution_count": null,
   "id": "df453fd8-ca86-49a5-994c-4e98cf11f8a3",
   "metadata": {},
   "outputs": [],
   "source": []
  }
 ],
 "metadata": {
  "kernelspec": {
   "display_name": "Python 3 (ipykernel)",
   "language": "python",
   "name": "python3"
  },
  "language_info": {
   "codemirror_mode": {
    "name": "ipython",
    "version": 3
   },
   "file_extension": ".py",
   "mimetype": "text/x-python",
   "name": "python",
   "nbconvert_exporter": "python",
   "pygments_lexer": "ipython3",
   "version": "3.9.12"
  }
 },
 "nbformat": 4,
 "nbformat_minor": 5
}

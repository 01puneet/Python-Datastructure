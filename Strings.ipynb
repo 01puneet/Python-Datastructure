{
 "cells": [
  {
   "cell_type": "code",
   "execution_count": 21,
   "id": "40adc330-2493-417d-9b44-f66a9b2c50d8",
   "metadata": {},
   "outputs": [
    {
     "name": "stdout",
     "output_type": "stream",
     "text": [
      "jerry\n",
      "berry\n",
      "Jery Berry\n"
     ]
    }
   ],
   "source": [
    "str='jerry'\n",
    "print(str)\n",
    "str1=\"berry\"\n",
    "str2=\"\"\"Jery \\\n",
    "Berry\"\"\"#to discontinue line change put \\\n",
    "print(str1)\n",
    "print(str2)"
   ]
  },
  {
   "cell_type": "code",
   "execution_count": 22,
   "id": "28a89e1b-2abe-4783-b32e-79e571c625ff",
   "metadata": {},
   "outputs": [
    {
     "name": "stdout",
     "output_type": "stream",
     "text": [
      "s\n",
      "e\n",
      "es\n",
      "b\n",
      "e\n",
      "r\n",
      "r\n",
      "y\n",
      "M\n",
      "e\n",
      "s\n",
      "s\n",
      "i\n",
      "b\n",
      "e\n",
      "r\n",
      "r\n",
      "y\n"
     ]
    }
   ],
   "source": [
    "#access\n",
    "#1-Indixing-positive & negative\n",
    "str=\"Messi\"\n",
    "print(str[3])#positive\n",
    "print(str[-4])#negative-works only left to right.\n",
    "\n",
    "#2-Slicing-negative & positive slice or subset\n",
    "\n",
    "print(str[1:4:2])#start from 1 upto 4(-1) step by 2\n",
    "\n",
    "#loop the string\n",
    "for i in str1:\n",
    "    print(i)\n",
    "#range()\n",
    "for i in range(0,len(str)):\n",
    "    print(str[i])\n",
    "\n",
    "#while\n",
    "i=0\n",
    "l=len(str1)\n",
    "while(i<=l-1):\n",
    "    print(str1[i])\n",
    "    i+=1\n"
   ]
  },
  {
   "cell_type": "code",
   "execution_count": 26,
   "id": "efca111e-8365-4ea3-96b4-44ddf4abe2de",
   "metadata": {},
   "outputs": [
    {
     "name": "stdout",
     "output_type": "stream",
     "text": [
      "Messi berry\n",
      "no\n"
     ]
    }
   ],
   "source": [
    "#concatenation\n",
    "print(str+\" \"+str1)\n",
    "#check if substring is thr\n",
    "if \"i \" in str:\n",
    "    print(\"yes\")\n",
    "else:\n",
    "    print(\"no\")"
   ]
  },
  {
   "cell_type": "code",
   "execution_count": 24,
   "id": "0636e54a-0340-47a6-8573-d22546ce1efe",
   "metadata": {},
   "outputs": [
    {
     "name": "stdout",
     "output_type": "stream",
     "text": [
      "   Pune et   12\n",
      "Pune et 7\n",
      "   PUNE ET  \n",
      "   pune et  \n",
      "False\n",
      "True\n",
      "4\n",
      "8\n",
      "2\n",
      "   Puneet  \n",
      "['Pune', 'et']\n",
      "['   Pu', 'e et  ']\n",
      "   Pue et  \n",
      "iloveyou\n"
     ]
    }
   ],
   "source": [
    "#string mehods.\n",
    "#strip()-remove white spaces from rear & front\n",
    "name=\"   Pune et  \"\n",
    "print(name, len(name))\n",
    "new=name.strip()\n",
    "print(new,len(new))\n",
    "\n",
    "#upper()-converts string in uppercase\n",
    "print(name.upper())\n",
    "#lower(converts string in lowercase\n",
    "print(name.lower())\n",
    "#startswith()-check if your string starts with particular substring.\n",
    "print(name.startswith(' Pu'))#returns true/false\n",
    "#endswith()--check if your string ends with particular substring.\n",
    "print(name.endswith(' '))\n",
    "#find()-finds particular substring in your string\n",
    "print(name.find('un'))\n",
    "#index()-find a particular string at index\n",
    "print(name.index('et'))\n",
    "#count()- gives no. of times your substring is repeating\n",
    "print(name.count(\"e\"))\n",
    "#replace()-replaces the string with desired substring\n",
    "print(name.replace(' e','e'))\n",
    "#split()-stores each word of string as element in list\n",
    "print(name.split())#default splits with whitespace\n",
    "newlist=name.split('n')\n",
    "print(newlist)#split with desired character\n",
    "#join()-concatenate all elements of any iterable as string\n",
    "j=''.join(newlist)#joining list\n",
    "print(j)\n",
    "t=('i','love','you')\n",
    "s=''.join(t)#joining tupple\n",
    "print(s)"
   ]
  },
  {
   "cell_type": "code",
   "execution_count": 34,
   "id": "e8ae4d13-80ab-4068-af09-5b8687d2a690",
   "metadata": {},
   "outputs": [
    {
     "name": "stdout",
     "output_type": "stream",
     "text": [
      "hi jerry\n",
      "num is 2\n",
      "num is 2.333\n",
      "hi jerry berry\n",
      "hi jerryjerry berry\n"
     ]
    }
   ],
   "source": [
    "#string formatting\n",
    "\"\"\"\n",
    "3 ways- \n",
    "placeholder-%\n",
    "format()\n",
    "f-string\n",
    "\"\"\"\n",
    "name=\"jerry\"\n",
    "s=\"hi %s\" %name#%s for string, %d for int,decimal,%f for float\n",
    "print(s)\n",
    "num=2.333\n",
    "s1=\"num is %d\" %num\n",
    "print(s1)\n",
    "s2=\"num is %.3f\" %num\n",
    "print(s2)\n",
    "j='jerry'\n",
    "b='berry'\n",
    "#str=\"hi %s %s\" %j%b\n",
    "#print(str)\n",
    "#format()\n",
    "str=\"hi {} {}\".format(j,b)\n",
    "print(str)\n",
    "strf=f\"hi {j*2} {b}\"\n",
    "print(strf)\n"
   ]
  },
  {
   "cell_type": "code",
   "execution_count": null,
   "id": "7532c164-a9a3-4262-9681-f6ef9d7886bc",
   "metadata": {},
   "outputs": [],
   "source": []
  },
  {
   "cell_type": "code",
   "execution_count": null,
   "id": "e50792ad-6aa5-43b8-a974-c8f47058bfdb",
   "metadata": {},
   "outputs": [],
   "source": []
  },
  {
   "cell_type": "code",
   "execution_count": null,
   "id": "ba743847-c8cd-4a1d-a593-e601212e96bb",
   "metadata": {},
   "outputs": [],
   "source": []
  }
 ],
 "metadata": {
  "kernelspec": {
   "display_name": "Python 3 (ipykernel)",
   "language": "python",
   "name": "python3"
  },
  "language_info": {
   "codemirror_mode": {
    "name": "ipython",
    "version": 3
   },
   "file_extension": ".py",
   "mimetype": "text/x-python",
   "name": "python",
   "nbconvert_exporter": "python",
   "pygments_lexer": "ipython3",
   "version": "3.9.12"
  }
 },
 "nbformat": 4,
 "nbformat_minor": 5
}

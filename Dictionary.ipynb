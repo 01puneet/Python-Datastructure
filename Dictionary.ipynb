{
 "cells": [
  {
   "cell_type": "code",
   "execution_count": 33,
   "id": "81e1c7d1-363c-4ad7-b2b4-5ea0fed548a0",
   "metadata": {},
   "outputs": [
    {
     "name": "stdout",
     "output_type": "stream",
     "text": [
      "{'france': 'mbape', 'portugal': 'ronaldo', 'argentina': 'messi'}\n",
      "{'Ronaldo': 812, 'Messi': 783} <class 'dict'>\n"
     ]
    }
   ],
   "source": [
    "#Dictionary-ordered, mutable, no duplicacy.\n",
    "star_player={\"france\":\"mbape\",\n",
    "             \"portugal\":\"ronaldo\",\n",
    "             \"argentina\":\"messi\"\n",
    "}\n",
    "print(star_player)\n",
    "#dict()-constructor used to create dictionary , can pass key-value in it\n",
    "goals=dict(Ronaldo=812,Messi=783)\n",
    "print(goals,type(goals))"
   ]
  },
  {
   "cell_type": "code",
   "execution_count": 34,
   "id": "c484fa9f-016e-4538-9e67-a39854d95bf8",
   "metadata": {},
   "outputs": [
    {
     "name": "stdout",
     "output_type": "stream",
     "text": [
      "mbape\n",
      "ronaldo\n",
      "dict_keys(['france', 'portugal', 'argentina'])\n",
      "dict_values(['mbape', 'ronaldo', 'messi'])\n",
      "dict_items([('france', 'mbape'), ('portugal', 'ronaldo'), ('argentina', 'messi')])\n",
      "france mbape\n",
      "portugal ronaldo\n",
      "argentina messi\n"
     ]
    }
   ],
   "source": [
    "#Access\n",
    "#1) by key\n",
    "print(star_player['france'])\n",
    "#2) get()- accepts key & returns value\n",
    "print(star_player.get('portugal'))\n",
    "#3)keys()-get all keys\n",
    "print(star_player.keys())\n",
    "#4) values-returns a list of values present in dictionary\n",
    "print(star_player.values())\n",
    "#5) items-Returns a list \n",
    "print(star_player.items())\n",
    "#6)for loop\n",
    "for i,j in star_player.items():\n",
    "    print(i,j)"
   ]
  },
  {
   "cell_type": "code",
   "execution_count": 36,
   "id": "30be1ded-de03-4fb8-a29c-602396856bcf",
   "metadata": {},
   "outputs": [
    {
     "name": "stdout",
     "output_type": "stream",
     "text": [
      "yes\n",
      "Key not present\n"
     ]
    }
   ],
   "source": [
    "#check for key\n",
    "if 'france' in star_player:\n",
    "    print('yes')\n",
    "else:\n",
    "    print('no')\n",
    "#try\n",
    "try:\n",
    "    print(star_player['frances'])\n",
    "except:\n",
    "    print(\"Key not present\")"
   ]
  },
  {
   "cell_type": "code",
   "execution_count": 37,
   "id": "3084b7ca-039a-42f8-bfa4-497b26801176",
   "metadata": {},
   "outputs": [
    {
     "name": "stdout",
     "output_type": "stream",
     "text": [
      "Before update- {'name': 'Puneet', 'salary': 200000000}\n",
      "After update- {'name': 'Puneet', 'salary': 50000000000}\n",
      "{'name': 'Puneet', 'salary': 50000000000, 'nam': 'Sardar ji'}\n",
      "{'name': 'Puneet', 'salary': 50000000000, 'nam': 'Sardar ji', 'age': 26}\n"
     ]
    }
   ],
   "source": [
    "#Change Dictionary\n",
    "#1)update value using key\n",
    "info={\"name\":\"Puneet\",\n",
    "     \"salary\":200000000}\n",
    "print(\"Before update-\",info)\n",
    "info[\"salary\"]=50000000000\n",
    "print(\"After update-\",info)\n",
    "\n",
    "#2) update()-takes key & corresponding value to update\n",
    "info.update({\"nam\":\"Sardar ji\"})\n",
    "print(info)\n",
    "#3 assigning\n",
    "info[\"age\"]=26\n",
    "print(info)"
   ]
  },
  {
   "cell_type": "code",
   "execution_count": 6,
   "id": "d5f0dca3-84e1-416a-8724-5cf5c46f8d27",
   "metadata": {},
   "outputs": [
    {
     "name": "stdout",
     "output_type": "stream",
     "text": [
      "{'name': 'Puneet', 'salary': 50000000000, 'nam': 'Sardar ji'}\n"
     ]
    }
   ],
   "source": [
    "print(info)"
   ]
  },
  {
   "cell_type": "code",
   "execution_count": 11,
   "id": "df6820ac-ad16-4e68-b1ae-c039e16809c8",
   "metadata": {},
   "outputs": [
    {
     "ename": "KeyError",
     "evalue": "'nam'",
     "output_type": "error",
     "traceback": [
      "\u001b[0;31m---------------------------------------------------------------------------\u001b[0m",
      "\u001b[0;31mKeyError\u001b[0m                                  Traceback (most recent call last)",
      "Input \u001b[0;32mIn [11]\u001b[0m, in \u001b[0;36m<cell line: 2>\u001b[0;34m()\u001b[0m\n\u001b[1;32m      1\u001b[0m \u001b[38;5;66;03m#remove\u001b[39;00m\n\u001b[0;32m----> 2\u001b[0m \u001b[43minfo\u001b[49m\u001b[38;5;241;43m.\u001b[39;49m\u001b[43mpop\u001b[49m\u001b[43m(\u001b[49m\u001b[38;5;124;43m'\u001b[39;49m\u001b[38;5;124;43mnam\u001b[39;49m\u001b[38;5;124;43m'\u001b[39;49m\u001b[43m)\u001b[49m\n\u001b[1;32m      3\u001b[0m \u001b[38;5;28mprint\u001b[39m(info)\n\u001b[1;32m      4\u001b[0m info\u001b[38;5;241m.\u001b[39mpopitem()\n",
      "\u001b[0;31mKeyError\u001b[0m: 'nam'"
     ]
    }
   ],
   "source": [
    "#remove\n",
    "info.pop('nam')\n",
    "print(info)\n"
   ]
  },
  {
   "cell_type": "code",
   "execution_count": 12,
   "id": "0c6f3405-74b6-4296-8a33-b39aefa31c5f",
   "metadata": {},
   "outputs": [
    {
     "name": "stdout",
     "output_type": "stream",
     "text": [
      "{'name': 'Puneet', 'salary': 50000000000}\n"
     ]
    }
   ],
   "source": [
    "info.popitem()\n",
    "print(info)"
   ]
  },
  {
   "cell_type": "code",
   "execution_count": 13,
   "id": "5117efc6-ce2e-4246-a122-2f115ced5ad1",
   "metadata": {},
   "outputs": [
    {
     "name": "stdout",
     "output_type": "stream",
     "text": [
      "{'name': 'Puneet'}\n"
     ]
    }
   ],
   "source": [
    "del info['salary']\n",
    "print(info)"
   ]
  },
  {
   "cell_type": "code",
   "execution_count": 14,
   "id": "e88c9cca-b57a-4837-b801-7c71902af59b",
   "metadata": {},
   "outputs": [
    {
     "name": "stdout",
     "output_type": "stream",
     "text": [
      "{}\n"
     ]
    }
   ],
   "source": [
    "info.clear()\n",
    "print(info)"
   ]
  },
  {
   "cell_type": "code",
   "execution_count": 16,
   "id": "7a5250de-7dc1-4135-9cfa-c904c85d74b9",
   "metadata": {},
   "outputs": [
    {
     "ename": "NameError",
     "evalue": "name 'info' is not defined",
     "output_type": "error",
     "traceback": [
      "\u001b[0;31m---------------------------------------------------------------------------\u001b[0m",
      "\u001b[0;31mNameError\u001b[0m                                 Traceback (most recent call last)",
      "Input \u001b[0;32mIn [16]\u001b[0m, in \u001b[0;36m<cell line: 2>\u001b[0;34m()\u001b[0m\n\u001b[1;32m      1\u001b[0m \u001b[38;5;28;01mdel\u001b[39;00m info\n\u001b[0;32m----> 2\u001b[0m \u001b[38;5;28mprint\u001b[39m(\u001b[43minfo\u001b[49m)\n",
      "\u001b[0;31mNameError\u001b[0m: name 'info' is not defined"
     ]
    }
   ],
   "source": [
    "del info\n",
    "print(info)"
   ]
  },
  {
   "cell_type": "code",
   "execution_count": 24,
   "id": "967e338f-8b96-496c-b146-8c6627e9c2af",
   "metadata": {},
   "outputs": [
    {
     "name": "stdout",
     "output_type": "stream",
     "text": [
      "{'one': 1}\n",
      "{'one': 1, 'two': 2}\n",
      "{'one': 1, 'two': 2, 'three': 3}\n",
      "{'one': 1, 'two': 2, 'three': 3}\n",
      "{'one': 1, 'two': 2, 'three': 3} {'one': 1, 'two': 2, 'three': 3, 'four': 4}\n",
      "{'one': 1, 'two': 2, 'three': 3} {'one': 1, 'two': 2, 'three': 3, 'five': 5}\n"
     ]
    }
   ],
   "source": [
    "#copy\n",
    "#1) assignment\n",
    "d1={\"one\":1}\n",
    "d2=d1\n",
    "print(d2)\n",
    "d1.update({\"two\":2})\n",
    "print(d2)\n",
    "d2.update({\"three\":3})\n",
    "print(d1)#if change made in any dictionary it will reflect in both.\n",
    "\n",
    "#copy()\n",
    "d3=d1.copy()\n",
    "print(d3)\n",
    "d3.update({\"four\":4})\n",
    "print(d1,d3)\n",
    "#changes will reflect only in respective dictionaries\n",
    "#dict()-constructor\n",
    "d5=dict(d1)\n",
    "d5.update({\"five\":5})\n",
    "print(d1,d5)#changes will reflect only in respective dictionaries"
   ]
  },
  {
   "cell_type": "code",
   "execution_count": 26,
   "id": "aaf5045a-70c4-4abc-bce9-7e7dd306010c",
   "metadata": {},
   "outputs": [
    {
     "name": "stdout",
     "output_type": "stream",
     "text": [
      "{'stream': 'civil', 'sub': 'dom'}\n"
     ]
    }
   ],
   "source": [
    "#nested dictionary\n",
    "course={ \"Btech\":{\n",
    "    \"stream\":\"cs\",\n",
    "    \"Subject\":\"DS\"\n",
    "},\n",
    "        \"Mtech\":{\n",
    "            \"stream\":\"civil\",\n",
    "            \"sub\":\"dom\"\n",
    "        }\n",
    "}\n",
    "print(course[\"Mtech\"])"
   ]
  },
  {
   "cell_type": "code",
   "execution_count": 31,
   "id": "f6cc1029-9e4e-4015-9303-e7180a018634",
   "metadata": {},
   "outputs": [
    {
     "name": "stdout",
     "output_type": "stream",
     "text": [
      "{'btech': (1, 2, 3, 4)}\n",
      "{'check': [11, 20]}\n"
     ]
    },
    {
     "ename": "TypeError",
     "evalue": "unhashable type: 'list'",
     "output_type": "error",
     "traceback": [
      "\u001b[0;31m---------------------------------------------------------------------------\u001b[0m",
      "\u001b[0;31mTypeError\u001b[0m                                 Traceback (most recent call last)",
      "Input \u001b[0;32mIn [31]\u001b[0m, in \u001b[0;36m<cell line: 10>\u001b[0;34m()\u001b[0m\n\u001b[1;32m      8\u001b[0m \u001b[38;5;28mprint\u001b[39m(d1)\n\u001b[1;32m      9\u001b[0m \u001b[38;5;66;03m#list as key\u001b[39;00m\n\u001b[0;32m---> 10\u001b[0m d3\u001b[38;5;241m=\u001b[39m{l:\u001b[38;5;124m\"\u001b[39m\u001b[38;5;124mcheck\u001b[39m\u001b[38;5;124m\"\u001b[39m}\n\u001b[1;32m     11\u001b[0m \u001b[38;5;28mprint\u001b[39m(d3)\n",
      "\u001b[0;31mTypeError\u001b[0m: unhashable type: 'list'"
     ]
    }
   ],
   "source": [
    "#tuple as key/value\n",
    "rollno=(1,2,3,4)\n",
    "d={\"btech\":rollno,}\n",
    "print(d)\n",
    "#list as value\n",
    "l=[11,20]\n",
    "d1={\"check\":l,}\n",
    "print(d1)\n",
    "#list as key\n",
    "d3={l:\"check\"}\n",
    "print(d3)\n",
    "\n"
   ]
  },
  {
   "cell_type": "code",
   "execution_count": null,
   "id": "1320c32e-7e37-4398-a6cf-24d8e20bca80",
   "metadata": {},
   "outputs": [],
   "source": []
  }
 ],
 "metadata": {
  "kernelspec": {
   "display_name": "Python 3 (ipykernel)",
   "language": "python",
   "name": "python3"
  },
  "language_info": {
   "codemirror_mode": {
    "name": "ipython",
    "version": 3
   },
   "file_extension": ".py",
   "mimetype": "text/x-python",
   "name": "python",
   "nbconvert_exporter": "python",
   "pygments_lexer": "ipython3",
   "version": "3.9.12"
  }
 },
 "nbformat": 4,
 "nbformat_minor": 5
}

{
 "cells": [
  {
   "cell_type": "code",
   "execution_count": 1,
   "id": "71037b69-ac2f-47fd-8d46-c1af076721a1",
   "metadata": {},
   "outputs": [
    {
     "name": "stdout",
     "output_type": "stream",
     "text": [
      "[2, 'a', 2.3]\n"
     ]
    }
   ],
   "source": [
    "l=[2,'a',2.3]#creating a list with different datatypes\n",
    "print(l)"
   ]
  },
  {
   "cell_type": "code",
   "execution_count": 2,
   "id": "c233e796-94eb-4f38-8e85-6dcb7175f5f6",
   "metadata": {},
   "outputs": [
    {
     "name": "stdout",
     "output_type": "stream",
     "text": [
      "Total Players- 3\n",
      "<class 'list'>\n",
      "Updated List of Players using append- ['Messi', 'Mbappe', 'Luka', 'Ronaldo']\n",
      "updated player list using insert- ['Messi', 'Neymar', 'Mbappe', 'Luka', 'Ronaldo']\n",
      "Deleted element will be lastone- Ronaldo\n",
      "After poping- ['Messi', 'Neymar', 'Mbappe', 'Luka']\n",
      "Deleted element- Messi\n",
      "After poping first element- ['Neymar', 'Mbappe', 'Luka']\n",
      "updated list ['Mbappe', 'Luka']\n",
      "['Luka', 'Mbappe']\n",
      "[1, 2, 7]\n",
      "[1, 22]\n",
      "[]\n",
      "['martinez', 'pepe']\n",
      "['pepe']\n",
      "['a', 'b', 'Cherry'] ['a', 'b']\n",
      "100\n",
      "1\n"
     ]
    }
   ],
   "source": [
    "#list methods\n",
    "players=[\"Messi\",\"Mbappe\",\"Luka\"]\n",
    "#len()-len(returns length of list)\n",
    "print(\"Total Players-\",len(players))\n",
    "\n",
    "#type- gives the type of a variable\n",
    "print(type(players))\n",
    "\n",
    "#append()-adds element at last of the list.\n",
    "players.append(\"Ronaldo\")\n",
    "print(\"Updated List of Players using append-\",players)\n",
    "\n",
    "#insert()- adds element at specific position in list.\n",
    "players.insert(1,\"Neymar\")\n",
    "print(\"updated player list using insert-\",players)\n",
    "\n",
    "#pop()- deletes specific index if mentioned else last item\n",
    "item=players.pop()\n",
    "print('Deleted element will be lastone-',item)\n",
    "print('After poping-',players)\n",
    "item_2=players.pop(0)#deletes specific index\n",
    "print('Deleted element-',item_2)\n",
    "print('After poping first element-',players)\n",
    "\n",
    "#remove()-deletes the specified item from list.\n",
    "players.remove(\"Neymar\")\n",
    "print(\"updated list\",players)\n",
    "\n",
    "#reverse()- reverses the list but not creates the new list or its copy but actually modifies the actual object.\n",
    "players.reverse()\n",
    "print(players)\n",
    "\n",
    "#sort()-arranges all the items in ascending/descending order.deals with actual list not with copy.\n",
    "list=[2,7,1]\n",
    "list.sort()\n",
    "print(list)\n",
    "#Sorted- also sorts the list\n",
    "l=[22,1]\n",
    "print(sorted(l))#list passed as parameter\n",
    "\n",
    "#clear-empty the list\n",
    "players.clear()\n",
    "print(players)\n",
    "#append-add item\n",
    "players.append('martinez')\n",
    "players.append('pepe')\n",
    "print(players)\n",
    "#del-keyword to remove element\n",
    "del players[0]\n",
    "print(players)\n",
    "#del- keyword to delete list\n",
    "del players\n",
    "#print(players)-Since players is deleted will throw error.\n",
    "#copy()\n",
    "fruits=[\"a\",\"b\"]\n",
    "copy=fruits.copy()\n",
    "copy.append(\"Cherry\")\n",
    "print(copy,fruits)\n",
    "#max()-returns the maximum element\n",
    "list=[2,1,33,100]\n",
    "print(max(list))\n",
    "#min()-returns the minimum element.\n",
    "print(min(list))"
   ]
  },
  {
   "cell_type": "code",
   "execution_count": 7,
   "id": "78904bc7-587b-4227-86ee-e94c9dc28322",
   "metadata": {},
   "outputs": [
    {
     "name": "stdout",
     "output_type": "stream",
     "text": [
      "[10, 10, 10]\n",
      "70\n",
      "[10, 7, 18, 10, 7, 1]\n"
     ]
    }
   ],
   "source": [
    "#multiply a list\n",
    "jersy=[10]*3\n",
    "print(jersy)#10 will be repeated 3 times\n",
    "new=jersy[0]*7 #multiplying single element\n",
    "print(new)\n",
    "\n",
    "#concat 2 lists\n",
    "cricket_jersy=[10,7,18]\n",
    "football_jersy=[10,7,1]\n",
    "print(cricket_jersy + football_jersy)\n"
   ]
  },
  {
   "cell_type": "code",
   "execution_count": 4,
   "id": "a2e466ea-379b-4c64-9c5b-43da7dc58361",
   "metadata": {},
   "outputs": [],
   "source": [
    "#print(dir(list()))#list of methods that class list has"
   ]
  },
  {
   "cell_type": "code",
   "execution_count": 16,
   "id": "addd1052-32d5-4310-9d43-ca983cd556ea",
   "metadata": {},
   "outputs": [
    {
     "name": "stdout",
     "output_type": "stream",
     "text": [
      "[10, 7, 18, 9]\n",
      "[7, 18, 9, 1]\n",
      "[10, 18]\n",
      "[]\n",
      "[10, 7, 18, 9, 1]\n",
      "[10, 7]\n"
     ]
    }
   ],
   "source": [
    "#Slicing a list\n",
    "jersy_no=[10,7,18,9,1]\n",
    "print(jersy_no[0:4])#Work upto upperlimit-1\n",
    "print(jersy_no[1:])#if uppper limit not defined then will print to last item\n",
    "print(jersy_no[0:4:2])#increment by 2\n",
    "#negative slicing\n",
    "print(jersy_no[-1:-4])# not work can traverse only from left to right\n",
    "print(jersy_no[-6:])\n",
    "print(jersy_no[-6:-3])\n"
   ]
  },
  {
   "cell_type": "code",
   "execution_count": 13,
   "id": "cb3b40f8-c8d0-47dd-9437-34da1409149b",
   "metadata": {},
   "outputs": [
    {
     "name": "stdout",
     "output_type": "stream",
     "text": [
      "[20]\n",
      "Even Number= [2, 4, 6]\n"
     ]
    }
   ],
   "source": [
    "#list Comprehension-shorthand list creation\n",
    "num=[20,30,40]\n",
    "copynum=[i for i in num if i ==20]\n",
    "print(copynum)\n",
    "#whole num\n",
    "whole=[1,2,3,4,5,6,7]\n",
    "even=[x for x in whole if x%2==0 ]\n",
    "print(\"Even Number=\",even)"
   ]
  },
  {
   "cell_type": "code",
   "execution_count": null,
   "id": "5986ab01-4f6b-496b-8882-3f139821e535",
   "metadata": {},
   "outputs": [],
   "source": []
  }
 ],
 "metadata": {
  "kernelspec": {
   "display_name": "Python 3 (ipykernel)",
   "language": "python",
   "name": "python3"
  },
  "language_info": {
   "codemirror_mode": {
    "name": "ipython",
    "version": 3
   },
   "file_extension": ".py",
   "mimetype": "text/x-python",
   "name": "python",
   "nbconvert_exporter": "python",
   "pygments_lexer": "ipython3",
   "version": "3.9.12"
  }
 },
 "nbformat": 4,
 "nbformat_minor": 5
}

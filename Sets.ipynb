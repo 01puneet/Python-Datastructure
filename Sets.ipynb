{
 "cells": [
  {
   "cell_type": "code",
   "execution_count": 3,
   "id": "1379ef3a-bb4e-4861-87bf-7edcabfb6cc9",
   "metadata": {},
   "outputs": [
    {
     "name": "stdout",
     "output_type": "stream",
     "text": [
      "{1, 2, 3}\n",
      "{3, 12}\n",
      "{'t', 'e', 'u', 'n', 'P'}\n"
     ]
    }
   ],
   "source": [
    "#set-unordered, immutable-add,remove possible , no duplicacy.\n",
    "s={1,2,3,1}\n",
    "print(s)#no duplicate\n",
    "s1=set([12,3,12])#list as parameter\n",
    "print(s1)\n",
    "s2=set(\"Puneet\")#string as parameter\n",
    "print(s2)#unordered , no duplicate\n",
    "#we can use set to check what different alphabets are in string"
   ]
  },
  {
   "cell_type": "code",
   "execution_count": 8,
   "id": "9b5df6f0-a936-46cc-ac6a-19645c2d145d",
   "metadata": {},
   "outputs": [
    {
     "name": "stdout",
     "output_type": "stream",
     "text": [
      "1\n",
      "2\n",
      "3\n"
     ]
    },
    {
     "ename": "TypeError",
     "evalue": "'set' object is not subscriptable",
     "output_type": "error",
     "traceback": [
      "\u001b[0;31m---------------------------------------------------------------------------\u001b[0m",
      "\u001b[0;31mTypeError\u001b[0m                                 Traceback (most recent call last)",
      "Input \u001b[0;32mIn [8]\u001b[0m, in \u001b[0;36m<cell line: 4>\u001b[0;34m()\u001b[0m\n\u001b[1;32m      3\u001b[0m     \u001b[38;5;28mprint\u001b[39m(i)\n\u001b[1;32m      4\u001b[0m \u001b[38;5;28;01mfor\u001b[39;00m i \u001b[38;5;129;01min\u001b[39;00m \u001b[38;5;28mrange\u001b[39m(\u001b[38;5;241m0\u001b[39m,\u001b[38;5;28mlen\u001b[39m(s)):\n\u001b[0;32m----> 5\u001b[0m     \u001b[38;5;28mprint\u001b[39m(\u001b[43ms\u001b[49m\u001b[43m[\u001b[49m\u001b[43mi\u001b[49m\u001b[43m]\u001b[49m)\n",
      "\u001b[0;31mTypeError\u001b[0m: 'set' object is not subscriptable"
     ]
    }
   ],
   "source": [
    "#access set\n",
    "for i in s:\n",
    "    print(i)\n",
    "for i in range(0,len(s)):\n",
    "    print(s[i])"
   ]
  },
  {
   "cell_type": "code",
   "execution_count": 9,
   "id": "c7415d30-e255-4601-83f7-a89562980968",
   "metadata": {},
   "outputs": [
    {
     "name": "stdout",
     "output_type": "stream",
     "text": [
      "{1, 2, 3, 50}\n"
     ]
    }
   ],
   "source": [
    "#add()\n",
    "s.add(50)\n",
    "print(s)\n"
   ]
  },
  {
   "cell_type": "code",
   "execution_count": 12,
   "id": "b7d3c052-de5b-4594-97b4-95590556818a",
   "metadata": {},
   "outputs": [
    {
     "ename": "KeyError",
     "evalue": "100",
     "output_type": "error",
     "traceback": [
      "\u001b[0;31m---------------------------------------------------------------------------\u001b[0m",
      "\u001b[0;31mKeyError\u001b[0m                                  Traceback (most recent call last)",
      "Input \u001b[0;32mIn [12]\u001b[0m, in \u001b[0;36m<cell line: 4>\u001b[0;34m()\u001b[0m\n\u001b[1;32m      1\u001b[0m \u001b[38;5;66;03m#remove()\u001b[39;00m\n\u001b[1;32m      2\u001b[0m \u001b[38;5;66;03m# s.remove(3)\u001b[39;00m\n\u001b[1;32m      3\u001b[0m \u001b[38;5;66;03m# print(s)\u001b[39;00m\n\u001b[0;32m----> 4\u001b[0m \u001b[43ms\u001b[49m\u001b[38;5;241;43m.\u001b[39;49m\u001b[43mremove\u001b[49m\u001b[43m(\u001b[49m\u001b[38;5;241;43m100\u001b[39;49m\u001b[43m)\u001b[49m\n\u001b[1;32m      5\u001b[0m \u001b[38;5;28mprint\u001b[39m(s)\n",
      "\u001b[0;31mKeyError\u001b[0m: 100"
     ]
    }
   ],
   "source": [
    "#remove()\n",
    "# s.remove(3)\n",
    "# print(s)\n",
    "s.remove(100)\n",
    "print(s)"
   ]
  },
  {
   "cell_type": "code",
   "execution_count": 14,
   "id": "77f3ec48-0cb8-4b89-8ee5-29911d393870",
   "metadata": {},
   "outputs": [
    {
     "name": "stdout",
     "output_type": "stream",
     "text": [
      "{1, 2, 50}\n"
     ]
    }
   ],
   "source": [
    "#discard()-noerror\n",
    "s.discard(100)\n",
    "print(s)"
   ]
  },
  {
   "cell_type": "code",
   "execution_count": 16,
   "id": "fd2e36ec-7085-4221-a68f-921fc4399676",
   "metadata": {},
   "outputs": [
    {
     "name": "stdout",
     "output_type": "stream",
     "text": [
      "{2, 50}\n"
     ]
    }
   ],
   "source": [
    "#pop()\n",
    "s.pop()\n",
    "print(s)"
   ]
  },
  {
   "cell_type": "code",
   "execution_count": 17,
   "id": "98008e70-d4de-4151-bb6b-251747134abe",
   "metadata": {},
   "outputs": [
    {
     "ename": "NameError",
     "evalue": "name 's2' is not defined",
     "output_type": "error",
     "traceback": [
      "\u001b[0;31m---------------------------------------------------------------------------\u001b[0m",
      "\u001b[0;31mNameError\u001b[0m                                 Traceback (most recent call last)",
      "Input \u001b[0;32mIn [17]\u001b[0m, in \u001b[0;36m<cell line: 2>\u001b[0;34m()\u001b[0m\n\u001b[1;32m      1\u001b[0m \u001b[38;5;28;01mdel\u001b[39;00m s2\n\u001b[0;32m----> 2\u001b[0m \u001b[38;5;28mprint\u001b[39m(\u001b[43ms2\u001b[49m)\n",
      "\u001b[0;31mNameError\u001b[0m: name 's2' is not defined"
     ]
    }
   ],
   "source": [
    "del s2\n",
    "print(s2)"
   ]
  },
  {
   "cell_type": "code",
   "execution_count": 18,
   "id": "ea32cede-63a4-4a81-acd0-8d04528eb31a",
   "metadata": {},
   "outputs": [
    {
     "name": "stdout",
     "output_type": "stream",
     "text": [
      "set()\n"
     ]
    }
   ],
   "source": [
    "#clear()-empty\n",
    "s1.clear()\n",
    "print(s1)"
   ]
  },
  {
   "cell_type": "code",
   "execution_count": 19,
   "id": "e78c2e86-2781-4e79-a984-13c454d7c843",
   "metadata": {},
   "outputs": [
    {
     "name": "stdout",
     "output_type": "stream",
     "text": [
      "{1, 2, 3, 4, 6, 7}\n"
     ]
    }
   ],
   "source": [
    "#union of sets-combines elements of 2 sets without duplicacy.\n",
    "even={2,4,6}\n",
    "odd={1,3,7}\n",
    "print(even.union(odd))"
   ]
  },
  {
   "cell_type": "code",
   "execution_count": 22,
   "id": "425dc28b-3255-47f2-84a5-ffc00527ba84",
   "metadata": {},
   "outputs": [
    {
     "name": "stdout",
     "output_type": "stream",
     "text": [
      "set()\n",
      "{2}\n"
     ]
    }
   ],
   "source": [
    "#intersection of sets-gives only common elements in 2 sets\n",
    "even={2,4,6}\n",
    "odd={1,3,7}\n",
    "prime={2,8}\n",
    "print(even.intersection(odd))\n",
    "print(even.intersection(prime))"
   ]
  },
  {
   "cell_type": "code",
   "execution_count": 25,
   "id": "5b7c441f-b9d4-43bb-a4c1-2282bb5b4e82",
   "metadata": {},
   "outputs": [
    {
     "name": "stdout",
     "output_type": "stream",
     "text": [
      "{2, 3}\n",
      "{7}\n",
      "{2, 3}\n"
     ]
    }
   ],
   "source": [
    "#difference of sets-return elements of first set not present in second set.\n",
    "setA={2,3}\n",
    "setB={4,5}\n",
    "print(setA.difference(setB))\n",
    "se1={1,3,7}\n",
    "se2={1,3,8}\n",
    "print(se1.difference(se2))\n",
    "\n",
    "st1={1,2}\n",
    "st2={1,3}\n",
    "print(st1.symmetric_difference(st2))"
   ]
  },
  {
   "cell_type": "code",
   "execution_count": 4,
   "id": "4f90a2cf-14ee-4c03-ad4f-cd4208d4f1d6",
   "metadata": {},
   "outputs": [
    {
     "name": "stdout",
     "output_type": "stream",
     "text": [
      "{1, 2, 3, 4, 5}\n"
     ]
    }
   ],
   "source": [
    "seti={1,2,3}\n",
    "setj={1,4,5}\n",
    "seti.update(setj)#operation perform\n",
    "print(seti)"
   ]
  },
  {
   "cell_type": "code",
   "execution_count": 15,
   "id": "4267b358-34c0-4daf-a225-2eba63ce6ea5",
   "metadata": {},
   "outputs": [
    {
     "name": "stdout",
     "output_type": "stream",
     "text": [
      "{2, 3, 7}\n",
      "True\n",
      "True\n"
     ]
    }
   ],
   "source": [
    "setm={1,2,3,4,5,7}\n",
    "setn={2,3,7}\n",
    "setm.intersection_update(setn)\n",
    "print(setm)\n",
    "print(setm.issuperset(setn))\n",
    "z=setm.issubset(setn)\n",
    "print(z)"
   ]
  },
  {
   "cell_type": "code",
   "execution_count": 6,
   "id": "9e3dd196-d055-4593-a370-c8b132a58c22",
   "metadata": {},
   "outputs": [
    {
     "name": "stdout",
     "output_type": "stream",
     "text": [
      "frozenset({1, 2, 3}) <class 'frozenset'>\n"
     ]
    }
   ],
   "source": [
    "#frozen set-immutable\n",
    "a=frozenset([1,2,3])\n",
    "print(a,type(a))\n"
   ]
  },
  {
   "cell_type": "code",
   "execution_count": null,
   "id": "3c8e0eff-e878-4ba1-a1a0-1cdc0266a322",
   "metadata": {},
   "outputs": [],
   "source": []
  }
 ],
 "metadata": {
  "kernelspec": {
   "display_name": "Python 3 (ipykernel)",
   "language": "python",
   "name": "python3"
  },
  "language_info": {
   "codemirror_mode": {
    "name": "ipython",
    "version": 3
   },
   "file_extension": ".py",
   "mimetype": "text/x-python",
   "name": "python",
   "nbconvert_exporter": "python",
   "pygments_lexer": "ipython3",
   "version": "3.9.12"
  }
 },
 "nbformat": 4,
 "nbformat_minor": 5
}
